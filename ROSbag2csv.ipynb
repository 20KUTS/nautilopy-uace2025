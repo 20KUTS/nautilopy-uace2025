{
 "cells": [
  {
   "cell_type": "markdown",
   "id": "5db03067-8b58-4eb9-b188-3ac69078e0ec",
   "metadata": {},
   "source": [
    "---\n",
    "title: \"ROS bag data to CSV with the bagpy package\"\n",
    "subtitle: This notebook shows how to convert ROS bag data into individual CSV files applied to the Underwater cave data set.\n",
    "authors:\n",
    "  - name: Thomas Guilment\n",
    "    affiliations:\n",
    "      - University of Louisiana at Lafayette\n",
    "    email: thomas.guilment@gmail.com\n",
    "    corresponding: true\n",
    "    orcid: 0009-0003-8163-3976\n",
    "  - name: Gabriele Morra\n",
    "    affiliations:\n",
    "      - University of Louisiana at Lafayette\n",
    "format:\n",
    "  html:\n",
    "    page-layout: article\n",
    "    toc: true\n",
    "    toc-depth: 2\n",
    "    number-sections: false\n",
    "jupyter: python3\n",
    "execute:\n",
    "  eval: false\n",
    "include: true\n",
    "---"
   ]
  },
  {
   "cell_type": "markdown",
   "id": "7503ddc6-fbc1-4994-a52b-e08b7f0b57ab",
   "metadata": {},
   "source": [
    "# ROS bag data to CSV with the bagpy package\n",
    "> The Underwater cave data sets bag data are available at [https://cirs.udg.edu/caves-dataset/](https://cirs.udg.edu/caves-dataset/)\n",
    "\n",
    ":::{important}\n",
    "Data are considered to be downloaded in the path **data/bag/full_dataset.bag**.\n",
    ":::"
   ]
  },
  {
   "cell_type": "markdown",
   "id": "a9a671e3-0712-458f-812d-41b2107718c3",
   "metadata": {},
   "source": [
    "## Imports"
   ]
  },
  {
   "cell_type": "code",
   "execution_count": null,
   "id": "bead29c9-ef64-4f51-96b8-64005f12e469",
   "metadata": {},
   "outputs": [],
   "source": [
    "#| echo: true\n",
    "import os\n",
    "import shutil\n",
    "\n",
    "# Import bagpy\n",
    "from bagpy import bagreader"
   ]
  },
  {
   "cell_type": "markdown",
   "id": "6fc8c9c1-ec7b-42c7-b0af-3e2edee48342",
   "metadata": {},
   "source": [
    "## Read the sensor dataset"
   ]
  },
  {
   "cell_type": "code",
   "execution_count": null,
   "id": "d4042448-a3b1-4cda-9ab0-95a6b92c5a87",
   "metadata": {},
   "outputs": [],
   "source": [
    "s_bag_data_path = os.path.join('.','data','full_dataset.bag')"
   ]
  },
  {
   "cell_type": "code",
   "execution_count": null,
   "id": "0345bfec-d5e5-4ad0-8697-7bf86b0d42c2",
   "metadata": {},
   "outputs": [],
   "source": []
  },
  {
   "cell_type": "code",
   "execution_count": null,
   "id": "784e80e4-323c-4545-a357-e4633fe8e3d1",
   "metadata": {},
   "outputs": [
    {
     "name": "stdout",
     "output_type": "stream",
     "text": [
      "[INFO]  Successfully created the data folder ./data/bag/full_dataset.\n"
     ]
    }
   ],
   "source": [
    "#| echo: true\n",
    "bag_data_sensors = bagreader(s_bag_data_path)"
   ]
  },
  {
   "cell_type": "markdown",
   "id": "33b678dd-6377-4a62-ae44-4777b8d37274",
   "metadata": {},
   "source": [
    "## Display all topics in a table"
   ]
  },
  {
   "cell_type": "code",
   "execution_count": null,
   "id": "fdcba8b5-072c-448e-92fe-e62eb684f39a",
   "metadata": {},
   "outputs": [
    {
     "data": {
      "text/html": [
       "<div>\n",
       "<style scoped>\n",
       "    .dataframe tbody tr th:only-of-type {\n",
       "        vertical-align: middle;\n",
       "    }\n",
       "\n",
       "    .dataframe tbody tr th {\n",
       "        vertical-align: top;\n",
       "    }\n",
       "\n",
       "    .dataframe thead th {\n",
       "        text-align: right;\n",
       "    }\n",
       "</style>\n",
       "<table border=\"1\" class=\"dataframe\">\n",
       "  <thead>\n",
       "    <tr style=\"text-align: right;\">\n",
       "      <th></th>\n",
       "      <th>Topics</th>\n",
       "      <th>Types</th>\n",
       "      <th>Message Count</th>\n",
       "      <th>Frequency</th>\n",
       "    </tr>\n",
       "  </thead>\n",
       "  <tbody>\n",
       "    <tr>\n",
       "      <th>0</th>\n",
       "      <td>/depth_sensor</td>\n",
       "      <td>cirs_girona_cala_viuda/Depth</td>\n",
       "      <td>19553</td>\n",
       "      <td>9.767973</td>\n",
       "    </tr>\n",
       "    <tr>\n",
       "      <th>1</th>\n",
       "      <td>/dvl_linkquest</td>\n",
       "      <td>cirs_girona_cala_viuda/LinkquestDvl</td>\n",
       "      <td>5564</td>\n",
       "      <td>2.849055</td>\n",
       "    </tr>\n",
       "    <tr>\n",
       "      <th>2</th>\n",
       "      <td>/imu_adis</td>\n",
       "      <td>cirs_girona_cala_viuda/Imu</td>\n",
       "      <td>19965</td>\n",
       "      <td>9.878213</td>\n",
       "    </tr>\n",
       "    <tr>\n",
       "      <th>3</th>\n",
       "      <td>/imu_adis_ros</td>\n",
       "      <td>sensor_msgs/Imu</td>\n",
       "      <td>19965</td>\n",
       "      <td>9.878213</td>\n",
       "    </tr>\n",
       "    <tr>\n",
       "      <th>4</th>\n",
       "      <td>/imu_xsens_mti</td>\n",
       "      <td>cirs_girona_cala_viuda/Imu</td>\n",
       "      <td>19553</td>\n",
       "      <td>9.766972</td>\n",
       "    </tr>\n",
       "    <tr>\n",
       "      <th>5</th>\n",
       "      <td>/imu_xsens_mti_ros</td>\n",
       "      <td>sensor_msgs/Imu</td>\n",
       "      <td>19553</td>\n",
       "      <td>9.766972</td>\n",
       "    </tr>\n",
       "    <tr>\n",
       "      <th>6</th>\n",
       "      <td>/odometry</td>\n",
       "      <td>nav_msgs/Odometry</td>\n",
       "      <td>21843</td>\n",
       "      <td>10.000010</td>\n",
       "    </tr>\n",
       "    <tr>\n",
       "      <th>7</th>\n",
       "      <td>/sonar_micron</td>\n",
       "      <td>cirs_girona_cala_viuda/RangeImageBeam</td>\n",
       "      <td>45599</td>\n",
       "      <td>24.229546</td>\n",
       "    </tr>\n",
       "    <tr>\n",
       "      <th>8</th>\n",
       "      <td>/sonar_micron_ros</td>\n",
       "      <td>sensor_msgs/LaserScan</td>\n",
       "      <td>45599</td>\n",
       "      <td>24.229546</td>\n",
       "    </tr>\n",
       "    <tr>\n",
       "      <th>9</th>\n",
       "      <td>/sonar_seaking</td>\n",
       "      <td>cirs_girona_cala_viuda/RangeImageBeam</td>\n",
       "      <td>97501</td>\n",
       "      <td>48.796510</td>\n",
       "    </tr>\n",
       "    <tr>\n",
       "      <th>10</th>\n",
       "      <td>/sonar_seaking_ros</td>\n",
       "      <td>sensor_msgs/LaserScan</td>\n",
       "      <td>97501</td>\n",
       "      <td>48.796510</td>\n",
       "    </tr>\n",
       "    <tr>\n",
       "      <th>11</th>\n",
       "      <td>/tf</td>\n",
       "      <td>tf2_msgs/TFMessage</td>\n",
       "      <td>249131</td>\n",
       "      <td>98.094017</td>\n",
       "    </tr>\n",
       "  </tbody>\n",
       "</table>\n",
       "</div>"
      ],
      "text/plain": [
       "                Topics                                  Types  Message Count  \\\n",
       "0        /depth_sensor           cirs_girona_cala_viuda/Depth          19553   \n",
       "1       /dvl_linkquest    cirs_girona_cala_viuda/LinkquestDvl           5564   \n",
       "2            /imu_adis             cirs_girona_cala_viuda/Imu          19965   \n",
       "3        /imu_adis_ros                        sensor_msgs/Imu          19965   \n",
       "4       /imu_xsens_mti             cirs_girona_cala_viuda/Imu          19553   \n",
       "5   /imu_xsens_mti_ros                        sensor_msgs/Imu          19553   \n",
       "6            /odometry                      nav_msgs/Odometry          21843   \n",
       "7        /sonar_micron  cirs_girona_cala_viuda/RangeImageBeam          45599   \n",
       "8    /sonar_micron_ros                  sensor_msgs/LaserScan          45599   \n",
       "9       /sonar_seaking  cirs_girona_cala_viuda/RangeImageBeam          97501   \n",
       "10  /sonar_seaking_ros                  sensor_msgs/LaserScan          97501   \n",
       "11                 /tf                     tf2_msgs/TFMessage         249131   \n",
       "\n",
       "    Frequency  \n",
       "0    9.767973  \n",
       "1    2.849055  \n",
       "2    9.878213  \n",
       "3    9.878213  \n",
       "4    9.766972  \n",
       "5    9.766972  \n",
       "6   10.000010  \n",
       "7   24.229546  \n",
       "8   24.229546  \n",
       "9   48.796510  \n",
       "10  48.796510  \n",
       "11  98.094017  "
      ]
     },
     "execution_count": null,
     "metadata": {},
     "output_type": "execute_result"
    }
   ],
   "source": [
    "#| echo: true\n",
    "bag_data_sensors.topic_table"
   ]
  },
  {
   "cell_type": "markdown",
   "id": "fff90568-18b1-4db6-ab7d-7d2f81257995",
   "metadata": {},
   "source": [
    "## Export the bag data to csv files"
   ]
  },
  {
   "cell_type": "code",
   "execution_count": null,
   "id": "060f8174-cf1a-42c6-b1e8-b44bce751626",
   "metadata": {},
   "outputs": [
    {
     "data": {
      "text/plain": [
       "'./data/bag/full_dataset'"
      ]
     },
     "execution_count": null,
     "metadata": {},
     "output_type": "execute_result"
    }
   ],
   "source": [
    "s_create_data_path = s_bag_data_path[:-4]\n",
    "s_create_data_path"
   ]
  },
  {
   "cell_type": "code",
   "execution_count": null,
   "id": "4e10f864-1b3a-45f7-88ea-25d9e496547a",
   "metadata": {},
   "outputs": [
    {
     "name": "stdout",
     "output_type": "stream",
     "text": [
      "Let's convert the bag data to CSV for each topic\n",
      "The following files have been created:\n",
      "./data/bag/full_dataset/depth_sensor.csv\n",
      "./data/bag/full_dataset/dvl_linkquest.csv\n",
      "./data/bag/full_dataset/imu_adis.csv\n",
      "./data/bag/full_dataset/imu_adis_ros.csv\n",
      "./data/bag/full_dataset/imu_xsens_mti.csv\n",
      "./data/bag/full_dataset/imu_xsens_mti_ros.csv\n",
      "./data/bag/full_dataset/odometry.csv\n",
      "./data/bag/full_dataset/sonar_micron.csv\n",
      "./data/bag/full_dataset/sonar_micron_ros.csv\n",
      "./data/bag/full_dataset/sonar_seaking.csv\n",
      "./data/bag/full_dataset/sonar_seaking_ros.csv\n",
      "./data/bag/full_dataset/tf.csv\n"
     ]
    }
   ],
   "source": [
    "#| echo: true\n",
    "\n",
    "# Check if the \"full_dataset\" folder exists\n",
    "if os.path.exists(s_create_data_path):\n",
    "    \n",
    "    # Get a list of all files in the \"full_dataset\" folder\n",
    "    l_s_files = os.listdir(s_create_data_path)\n",
    "    \n",
    "    # Filter the list to only include CSV files\n",
    "    l_s_csv_files = [f for f in l_s_files if f.endswith(\".csv\")]\n",
    "    \n",
    "    if l_s_csv_files:\n",
    "        print(f\"The 'full_dataset' already contains {len(l_s_csv_files)} CSV file(s):\")\n",
    "        print(*l_s_csv_files,sep='\\n')\n",
    "    else:\n",
    "        print(\"Let's convert the bag data to CSV for each topic\")\n",
    "        # Generic message retrieval\n",
    "        # ROS messages of any type and topic can be decoded as follows:\n",
    "        l_s_csv_files = []\n",
    "        for s_topic in bag_data_sensors.topics:\n",
    "            s_data = bag_data_sensors.message_by_topic(s_topic) # Create a folder and write the CSV files\n",
    "            l_s_csv_files.append(s_data) # Memorize file paths if needed\n",
    "\n",
    "        print(\"The following files have been created:\")\n",
    "        print(*l_s_csv_files,sep='\\n')"
   ]
  },
  {
   "cell_type": "markdown",
   "id": "be53eecd-4043-4256-8cfd-32c8ce63ef67",
   "metadata": {},
   "source": [
    "## If needed move the csv file to a new CSV folder"
   ]
  },
  {
   "cell_type": "code",
   "execution_count": null,
   "id": "62602371-6a94-42eb-bf6c-a8cedafea1bb",
   "metadata": {},
   "outputs": [
    {
     "name": "stdout",
     "output_type": "stream",
     "text": [
      "The csv directory already exist\n"
     ]
    }
   ],
   "source": [
    "s_destination_path = os.path.join('.','data','csv')\n",
    "\n",
    "# Create the destination directory if it doesn't exist\n",
    "if not os.path.exists(s_destination_path):\n",
    "    os.makedirs(s_destination_path)\n",
    "    print(f\"Created directory: {s_destination_path}\")\n",
    "\n",
    "    # Move each specified file\n",
    "    for s_filename in l_s_csv_files:\n",
    "        s_source_file = os.path.join(s_create_data_path, s_filename)\n",
    "        s_dest_file = os.path.join(s_destination_path, s_filename)\n",
    "        \n",
    "        if os.path.exists(s_source_file):\n",
    "            shutil.move(s_source_file, s_destination_path)\n",
    "            print(f\"Moved {s_filename} to {s_destination_path}\")\n",
    "        else:\n",
    "            print(f\"File not found: {s_source_file}\")\n",
    "\n",
    "else:\n",
    "    print(\"The csv directory already exist\")"
   ]
  },
  {
   "cell_type": "code",
   "execution_count": null,
   "id": "7606d29a-d722-4f29-b334-81aaafa33d61",
   "metadata": {},
   "outputs": [],
   "source": [
    "#| hide\n",
    "import nbdev; nbdev.nbdev_export()"
   ]
  }
 ],
 "metadata": {
  "kernelspec": {
   "display_name": "geo-env",
   "language": "python",
   "name": "geo-env"
  },
  "language_info": {
   "codemirror_mode": {
    "name": "ipython",
    "version": 3
   },
   "file_extension": ".py",
   "mimetype": "text/x-python",
   "name": "python",
   "nbconvert_exporter": "python",
   "pygments_lexer": "ipython3",
   "version": "3.9.18"
  }
 },
 "nbformat": 4,
 "nbformat_minor": 5
}
